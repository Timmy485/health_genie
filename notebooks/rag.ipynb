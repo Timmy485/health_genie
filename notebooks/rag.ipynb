{
  "cells": [
    {
      "cell_type": "code",
      "execution_count": 1,
      "metadata": {
        "id": "ObJyme2Px4p2"
      },
      "outputs": [
        {
          "data": {
            "text/plain": [
              "True"
            ]
          },
          "execution_count": 1,
          "metadata": {},
          "output_type": "execute_result"
        }
      ],
      "source": [
        "import os\n",
        "from llama_index.core import (\n",
        "    VectorStoreIndex,\n",
        "    SimpleDirectoryReader,\n",
        "    load_index_from_storage,\n",
        "    StorageContext,\n",
        ")\n",
        "\n",
        "from dotenv import load_dotenv\n",
        "from os import environ\n",
        "load_dotenv()"
      ]
    },
    {
      "cell_type": "markdown",
      "metadata": {
        "id": "7dupETSpzjZ9"
      },
      "source": [
        "### Set Up Api Key\n"
      ]
    },
    {
      "cell_type": "code",
      "execution_count": 2,
      "metadata": {},
      "outputs": [],
      "source": [
        "OPENAI_API_KEY = environ.get(\"OPENAI_API_KEY\")\n",
        "os.environ[\"OPENAI_API_KEY\"] = OPENAI_API_KEY"
      ]
    },
    {
      "cell_type": "markdown",
      "metadata": {
        "id": "76x5H10vywdv"
      },
      "source": [
        "### Load Data Files"
      ]
    },
    {
      "cell_type": "code",
      "execution_count": 3,
      "metadata": {
        "id": "reBo-pB32TFP"
      },
      "outputs": [],
      "source": [
        "filename_fn = lambda filename: {\"file_name\": filename}\n",
        "# automatically sets the metadata of each document according to filename_fn\n",
        "documents = SimpleDirectoryReader(\n",
        "    input_files=[\"./data/01.pdf\",\"./data/02.pdf\",\"./data/03.pdf\",\"./data/04.pdf\",\"./data/05.pdf\"], file_metadata=filename_fn\n",
        ").load_data()"
      ]
    },
    {
      "cell_type": "code",
      "execution_count": 5,
      "metadata": {
        "colab": {
          "base_uri": "https://localhost:8080/"
        },
        "id": "8wT4kHDuy0wO",
        "outputId": "a24245df-b023-4e21-b907-2b4895fd9905"
      },
      "outputs": [
        {
          "name": "stdout",
          "output_type": "stream",
          "text": [
            "Loaded 91 docs\n"
          ]
        }
      ],
      "source": [
        "print(f\"Loaded {len(documents)} docs\")"
      ]
    },
    {
      "cell_type": "markdown",
      "metadata": {
        "id": "qtZKIntc3oD1"
      },
      "source": [
        "### Save Indexing"
      ]
    },
    {
      "cell_type": "code",
      "execution_count": 6,
      "metadata": {
        "id": "KZJlc9vf3kLV"
      },
      "outputs": [],
      "source": [
        "# check if storage already exists\n",
        "PERSIST_DIR = \"./storage\"\n",
        "if not os.path.exists(PERSIST_DIR):\n",
        "    index = VectorStoreIndex.from_documents(documents)\n",
        "    # store it for later\n",
        "    index.storage_context.persist(persist_dir=PERSIST_DIR)\n",
        "else:\n",
        "  # rebuild storage context\n",
        "  storage_context = StorageContext.from_defaults(persist_dir=\"storage\")\n",
        "  # load index\n",
        "  index = load_index_from_storage(storage_context=storage_context)"
      ]
    },
    {
      "cell_type": "markdown",
      "metadata": {
        "id": "6WVg_RVk48GM"
      },
      "source": [
        "### Retrieval"
      ]
    },
    {
      "cell_type": "code",
      "execution_count": 7,
      "metadata": {
        "id": "niiFQtE144G9"
      },
      "outputs": [],
      "source": [
        "query_engine = index.as_query_engine(response_mode=\"tree_summarize\", similarity_top_k=5)"
      ]
    },
    {
      "cell_type": "code",
      "execution_count": 8,
      "metadata": {
        "id": "-BSzt3L45BLV"
      },
      "outputs": [],
      "source": [
        "response = query_engine.query(\"how strong must the spinal column be?\")"
      ]
    },
    {
      "cell_type": "code",
      "execution_count": 9,
      "metadata": {
        "colab": {
          "base_uri": "https://localhost:8080/",
          "height": 191
        },
        "id": "eKyH0Ncx5g2s",
        "outputId": "a1e79bd4-743a-40a0-ef38-660212e1bb6a"
      },
      "outputs": [
        {
          "data": {
            "text/plain": [
              "'The spinal column must be strong enough to support the trunk and extremities, protect the spinal cord and cauda equina, anchor muscles, and allow for movement of the head and trunk in multiple directions.'"
            ]
          },
          "execution_count": 9,
          "metadata": {},
          "output_type": "execute_result"
        }
      ],
      "source": [
        "response.response"
      ]
    },
    {
      "cell_type": "code",
      "execution_count": 10,
      "metadata": {
        "colab": {
          "base_uri": "https://localhost:8080/"
        },
        "id": "2r-NOSOb73YN",
        "outputId": "aec22857-65c4-421e-9cf9-e58726b7a8c8"
      },
      "outputs": [
        {
          "name": "stdout",
          "output_type": "stream",
          "text": [
            "Node ID: 1171a1e8-d743-4afa-a6d8-05cd55bc36aa\n",
            "Text: Anatomy and Examination of the Spine Michael W. Devereaux, MDa,b\n",
            "aDepartment of Neurology, University Hospitals of Cleveland/Case\n",
            "Western Reserve University, 11100 Euclid Avenue, Cleveland, OH 44106,\n",
            "USA bUniversity Hospitals Health System, Richmond Heights Hospital\n",
            "27100 Chardon Road, Richmond Heights, OH 44143-1116, USA A review of\n",
            "the anatomy...\n",
            "Node ID: fa377596-72fe-478f-bd0e-e5110f628164\n",
            "Text: assess whether the spine is balanced. A spine is said to be\n",
            "balanced clinically when the head is centred over the pubicsymphysis\n",
            "in the coronal plane and centred over the femoralhead in the sagittal\n",
            "plane ( Figure 1 ). In the coronal plane a weighted string or plumb\n",
            "line can be used to further assess bal-ance. The string should be\n",
            "pressed agains...\n",
            "Node ID: 936d20ac-9c3c-433b-a4f1-b47b9ba51cd9\n",
            "Text: The spinal canal itself is formed posterolaterally by the\n",
            "laminae and lig- amentum ﬂavum, anterolaterally by the pedicles, and\n",
            "anteriorly by the pos-terior surface of the vertebral bodies and\n",
            "intervertebral discs. Themidsagittal (anterior-posterior) diameter of\n",
            "the cervical canal from C1 toC3 is usually approximately 21 mm (range\n",
            "16–30 mm), and ...\n",
            "Node ID: d80d1bf4-e293-4e54-b98d-93ffd6df7161\n",
            "Text: The most common cause for this is prolapsedintervertebral disc;\n",
            "however, other causes are possible andshould be considered. Any\n",
            "associated bladder or bowel dysfunction, or perineal paraesthesia\n",
            "necessitates emergency clinical assessment and investigation to rule\n",
            "out cauda equinasyndrome (CES). A myelopathic patient will typically\n",
            "describe an uns...\n",
            "Node ID: f6fafb26-c2c4-445a-bd6e-9eef278fc76e\n",
            "Text: Morphologic changes in the lumbar intervertebral fo- ramen due\n",
            "to ﬂexion-extension, lateral bending, and axial rotation: an in vitro\n",
            "anatomicand biomechanical study. Spine 2001;26(8):876–82. [112] Willen\n",
            "J, Danielson B, Gaulitz A, et al. Dynamic eﬀects on the lumbar spinal\n",
            "canal: axially loaded CT-myelography and MRI in patients with sciatica\n",
            "an...\n"
          ]
        }
      ],
      "source": [
        "#explore which nodes were selected for the answer\n",
        "for node_with_score in response.source_nodes:\n",
        "    print(node_with_score.node)"
      ]
    },
    {
      "cell_type": "code",
      "execution_count": 11,
      "metadata": {},
      "outputs": [
        {
          "name": "stdout",
          "output_type": "stream",
          "text": [
            "{'page_label': '331', 'file_name': 'data\\\\02.pdf'}\n",
            "{'page_label': '351', 'file_name': 'data\\\\03.pdf'}\n",
            "{'page_label': '332', 'file_name': 'data\\\\02.pdf'}\n",
            "{'page_label': '350', 'file_name': 'data\\\\03.pdf'}\n",
            "{'page_label': '468', 'file_name': 'data\\\\04.pdf'}\n"
          ]
        }
      ],
      "source": [
        "#explore which files were selected for the answer\n",
        "for node_with_score in response.source_nodes:\n",
        "    print(node_with_score.node.metadata)"
      ]
    }
  ],
  "metadata": {
    "colab": {
      "provenance": []
    },
    "kernelspec": {
      "display_name": "Python 3",
      "name": "python3"
    },
    "language_info": {
      "codemirror_mode": {
        "name": "ipython",
        "version": 3
      },
      "file_extension": ".py",
      "mimetype": "text/x-python",
      "name": "python",
      "nbconvert_exporter": "python",
      "pygments_lexer": "ipython3",
      "version": "3.11.3"
    }
  },
  "nbformat": 4,
  "nbformat_minor": 0
}
