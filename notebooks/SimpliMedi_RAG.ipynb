{
  "cells": [
    {
      "cell_type": "code",
      "execution_count": 1,
      "metadata": {
        "id": "ObJyme2Px4p2"
      },
      "outputs": [
        {
          "data": {
            "text/plain": [
              "True"
            ]
          },
          "execution_count": 1,
          "metadata": {},
          "output_type": "execute_result"
        }
      ],
      "source": [
        "import os\n",
        "from llama_index.core import (\n",
        "    VectorStoreIndex,\n",
        "    SimpleDirectoryReader,\n",
        "    load_index_from_storage,\n",
        "    StorageContext,\n",
        ")\n",
        "\n",
        "from dotenv import load_dotenv\n",
        "from os import environ\n",
        "load_dotenv()"
      ]
    },
    {
      "cell_type": "markdown",
      "metadata": {
        "id": "7dupETSpzjZ9"
      },
      "source": [
        "### Set Up Api Key\n"
      ]
    },
    {
      "cell_type": "code",
      "execution_count": 2,
      "metadata": {},
      "outputs": [],
      "source": [
        "OPENAI_API_KEY = environ.get(\"OPENAI_API_KEY\")\n",
        "os.environ[\"OPENAI_API_KEY\"] = OPENAI_API_KEY"
      ]
    },
    {
      "cell_type": "markdown",
      "metadata": {
        "id": "76x5H10vywdv"
      },
      "source": [
        "### Load Data Files"
      ]
    },
    {
      "cell_type": "code",
      "execution_count": 3,
      "metadata": {
        "id": "reBo-pB32TFP"
      },
      "outputs": [],
      "source": [
        "filename_fn = lambda filename: {\"file_name\": filename}\n",
        "# automatically sets the metadata of each document according to filename_fn\n",
        "documents = SimpleDirectoryReader(\n",
        "    input_files=[\"./data/01.pdf\",\"./data/02.pdf\",\"./data/03.pdf\",\"./data/04.pdf\",\"./data/05.pdf\"], file_metadata=filename_fn\n",
        ").load_data()"
      ]
    },
    {
      "cell_type": "code",
      "execution_count": 5,
      "metadata": {
        "colab": {
          "base_uri": "https://localhost:8080/"
        },
        "id": "8wT4kHDuy0wO",
        "outputId": "a24245df-b023-4e21-b907-2b4895fd9905"
      },
      "outputs": [
        {
          "name": "stdout",
          "output_type": "stream",
          "text": [
            "Loaded 91 docs\n"
          ]
        }
      ],
      "source": [
        "print(f\"Loaded {len(documents)} docs\")"
      ]
    },
    {
      "cell_type": "markdown",
      "metadata": {},
      "source": []
    },
    {
      "cell_type": "markdown",
      "metadata": {
        "id": "qtZKIntc3oD1"
      },
      "source": [
        "### Save Indexing"
      ]
    },
    {
      "cell_type": "code",
      "execution_count": 6,
      "metadata": {
        "id": "KZJlc9vf3kLV"
      },
      "outputs": [],
      "source": [
        "# check if storage already exists\n",
        "PERSIST_DIR = \"./storage\"\n",
        "if not os.path.exists(PERSIST_DIR):\n",
        "    index = VectorStoreIndex.from_documents(documents)\n",
        "    # store it for later\n",
        "    index.storage_context.persist(persist_dir=PERSIST_DIR)\n",
        "else:\n",
        "  # rebuild storage context\n",
        "  storage_context = StorageContext.from_defaults(persist_dir=\"storage\")\n",
        "  # load index\n",
        "  index = load_index_from_storage(storage_context=storage_context)"
      ]
    },
    {
      "cell_type": "markdown",
      "metadata": {
        "id": "6WVg_RVk48GM"
      },
      "source": [
        "### Retrieval"
      ]
    },
    {
      "cell_type": "code",
      "execution_count": 7,
      "metadata": {
        "id": "niiFQtE144G9"
      },
      "outputs": [],
      "source": [
        "query_engine = index.as_query_engine(response_mode=\"tree_summarize\", similarity_top_k=5)"
      ]
    },
    {
      "cell_type": "code",
      "execution_count": 8,
      "metadata": {
        "id": "-BSzt3L45BLV"
      },
      "outputs": [],
      "source": [
        "response = query_engine.query(\"how strong must the spinal column be?\")"
      ]
    },
    {
      "cell_type": "code",
      "execution_count": 9,
      "metadata": {
        "colab": {
          "base_uri": "https://localhost:8080/",
          "height": 191
        },
        "id": "eKyH0Ncx5g2s",
        "outputId": "a1e79bd4-743a-40a0-ef38-660212e1bb6a"
      },
      "outputs": [
        {
          "data": {
            "text/plain": [
              "'The spinal column must be strong enough to support the trunk and extremities, protect the spinal cord and cauda equina, anchor muscles, and allow for movement of the head and trunk in multiple directions.'"
            ]
          },
          "execution_count": 9,
          "metadata": {},
          "output_type": "execute_result"
        }
      ],
      "source": [
        "response.response"
      ]
    },
    {
      "cell_type": "code",
      "execution_count": 10,
      "metadata": {
        "colab": {
          "base_uri": "https://localhost:8080/"
        },
        "id": "2r-NOSOb73YN",
        "outputId": "aec22857-65c4-421e-9cf9-e58726b7a8c8"
      },
      "outputs": [
        {
          "name": "stdout",
          "output_type": "stream",
          "text": [
            "Node ID: 1171a1e8-d743-4afa-a6d8-05cd55bc36aa\n",
            "Text: Anatomy and Examination of the Spine Michael W. Devereaux, MDa,b\n",
            "aDepartment of Neurology, University Hospitals of Cleveland/Case\n",
            "Western Reserve University, 11100 Euclid Avenue, Cleveland, OH 44106,\n",
            "USA bUniversity Hospitals Health System, Richmond Heights Hospital\n",
            "27100 Chardon Road, Richmond Heights, OH 44143-1116, USA A review of\n",
            "the anatomy...\n",
            "Node ID: fa377596-72fe-478f-bd0e-e5110f628164\n",
            "Text: assess whether the spine is balanced. A spine is said to be\n",
            "balanced clinically when the head is centred over the pubicsymphysis\n",
            "in the coronal plane and centred over the femoralhead in the sagittal\n",
            "plane ( Figure 1 ). In the coronal plane a weighted string or plumb\n",
            "line can be used to further assess bal-ance. The string should be\n",
            "pressed agains...\n",
            "Node ID: 936d20ac-9c3c-433b-a4f1-b47b9ba51cd9\n",
            "Text: The spinal canal itself is formed posterolaterally by the\n",
            "laminae and lig- amentum ﬂavum, anterolaterally by the pedicles, and\n",
            "anteriorly by the pos-terior surface of the vertebral bodies and\n",
            "intervertebral discs. Themidsagittal (anterior-posterior) diameter of\n",
            "the cervical canal from C1 toC3 is usually approximately 21 mm (range\n",
            "16–30 mm), and ...\n",
            "Node ID: d80d1bf4-e293-4e54-b98d-93ffd6df7161\n",
            "Text: The most common cause for this is prolapsedintervertebral disc;\n",
            "however, other causes are possible andshould be considered. Any\n",
            "associated bladder or bowel dysfunction, or perineal paraesthesia\n",
            "necessitates emergency clinical assessment and investigation to rule\n",
            "out cauda equinasyndrome (CES). A myelopathic patient will typically\n",
            "describe an uns...\n",
            "Node ID: f6fafb26-c2c4-445a-bd6e-9eef278fc76e\n",
            "Text: Morphologic changes in the lumbar intervertebral fo- ramen due\n",
            "to ﬂexion-extension, lateral bending, and axial rotation: an in vitro\n",
            "anatomicand biomechanical study. Spine 2001;26(8):876–82. [112] Willen\n",
            "J, Danielson B, Gaulitz A, et al. Dynamic eﬀects on the lumbar spinal\n",
            "canal: axially loaded CT-myelography and MRI in patients with sciatica\n",
            "an...\n"
          ]
        }
      ],
      "source": [
        "#explore which nodes were selected for the answer\n",
        "for node_with_score in response.source_nodes:\n",
        "    print(node_with_score.node)"
      ]
    },
    {
      "cell_type": "code",
      "execution_count": 11,
      "metadata": {},
      "outputs": [
        {
          "name": "stdout",
          "output_type": "stream",
          "text": [
            "{'page_label': '331', 'file_name': 'data\\\\02.pdf'}\n",
            "{'page_label': '351', 'file_name': 'data\\\\03.pdf'}\n",
            "{'page_label': '332', 'file_name': 'data\\\\02.pdf'}\n",
            "{'page_label': '350', 'file_name': 'data\\\\03.pdf'}\n",
            "{'page_label': '468', 'file_name': 'data\\\\04.pdf'}\n"
          ]
        }
      ],
      "source": [
        "#explore which files were selected for the answer\n",
        "for node_with_score in response.source_nodes:\n",
        "    print(node_with_score.node.metadata)"
      ]
    },
    {
      "cell_type": "markdown",
      "metadata": {},
      "source": [
        "### Chat Completions With OpenAI"
      ]
    },
    {
      "cell_type": "code",
      "execution_count": 6,
      "metadata": {},
      "outputs": [],
      "source": [
        "text = \"\"\"\n",
        "EXAM: MR LUMBAR SPINE WITH AND WITHOUT CONTRAST\n",
        "\n",
        "CLINICAL INDICATION: Low back pain.\n",
        "\n",
        "TECHNIQUE: Multiplanar multisequence MRI of the lumbar spine performed without and with intravenous\n",
        "contrast.\n",
        "\n",
        "CONTRAST: 15 mL of Clariscan\n",
        "\n",
        "COMPARISON: None.\n",
        "\n",
        "FINDINGS:\n",
        "Assuming normal segmentation, there are 5 lumbar type vertebra with S1 completely incorporated into the\n",
        "sacrum.\n",
        "\n",
        "Postsurgical changes of L2-L4 laminectomies with posterior instrumented fusion at L2-L5. Susceptibility\n",
        "artifact related to fusion hardware limits evaluation of adjacent structures.\n",
        "\n",
        "Vertebral Bodies: Chronic-appearing mild anterior wedging of the T12 vertebral body. Vertebral body\n",
        "heights are otherwise maintained. No suspicious marrow signal replacement.\n",
        "Alignment: No acute lumbar subluxation. Stepwise grade 1 retrolisthesis of L1 on L2 and L2 on L3. Mild\n",
        "lumbar dextrocurvature.\n",
        "\n",
        "Extradural: There are no abnormal extradural fluid collections or masses. No foci of abnormal\n",
        "enhancement.\n",
        "Spinal Cord: The distal spinal cord appears normal.\n",
        "Conus: The conus terminates at approximately L1\n",
        "\n",
        "T12-L1: No spinal canal stenosis. Mild bilateral neuroforaminal stenosis due to foraminal extension of\n",
        "disc bulge and facet arthropathy.\n",
        "\n",
        "L1-L2: Severe spinal canal stenosis due to disc bulge, facet arthropathy and ligamentum flavum\n",
        "redundancy. Moderate right and severe left neuroforaminal stenosis due to foraminal extension of disc\n",
        "bulge and facet arthropathy.\n",
        "\n",
        "L2-L3: No spinal canal stenosis. Mild bilateral neuroforaminal stenosis due to foraminal extension of\n",
        "disc bulge and facet arthropathy.\n",
        "\n",
        "L3-L4: No spinal canal stenosis. Mild right and moderate left neuroforaminal stenosis due to foraminal\n",
        "extension of disc bulge and facet arthropathy.\n",
        "\n",
        "L4-L5: No spinal canal stenosis. Mild right and moderate left neuroforaminal stenosis due to foraminal\n",
        "extension of disc bulge and facet arthropathy.\n",
        "\n",
        "L5-S1: No spinal canal stenosis. Moderate right and severe left neuroforaminal stenosis due to foraminal\n",
        "extension of disc bulge and facet arthropathy.\n",
        "\n",
        "Paraspinal Soft Tissues: Unremarkable.\n",
        "Regional Soft Tissues: Simple-appearing right renal cyst measuring 6.7 x 5.8 cm.\n",
        "\n",
        "\n",
        "IMPRESSION:\n",
        "\n",
        "Postsurgical and multilevel degenerative spondylotic changes of the lumbar spine with up to severe spinal\n",
        "canal and severe neuroforaminal stenosis, further discussed in level by level detail above.\n",
        "\"\"\""
      ]
    },
    {
      "cell_type": "code",
      "execution_count": 7,
      "metadata": {},
      "outputs": [],
      "source": [
        "query = f\"\"\"\n",
        "Assume you are a patient with limited medical knowledge who has received a medical report filled with complex terminology. You are seeking a clearer understanding of this report in two parts:\n",
        "\n",
        "1. **Report Explanation**: First, break down the medical report, keeping the original terms but explaining their significance. Detail what each finding or measurement within the report indicates about your health. Include any abnormalities or conditions detected, explaining what each part of the scan or test represents. \n",
        "\n",
        "2. **Simplified Explanation**: Next, provide a simplified explanation of the report's findings as if explaining to a complete layperson or as though you were explaining it to a two-year-old. This should include:\n",
        "- A plain English summary of any conditions or abnormalities found.\n",
        "- Insights into how these findings relate to your overall health.\n",
        "- Suggestions for potential treatment options or further diagnostic tests, based ONLY on the report's findings.\n",
        "- Clarification of any complex terms or concepts in very simple language, avoiding medical jargon.\n",
        "\n",
        "Please ensure that while simplifying, you do not omit essential medical terms; rather, introduce them with their explanations to ensure the patient fully understands their report.\n",
        "\n",
        "Medical report: {text}\n",
        "\"\"\""
      ]
    },
    {
      "cell_type": "code",
      "execution_count": 8,
      "metadata": {},
      "outputs": [],
      "source": [
        "from openai import OpenAI\n",
        "\n",
        "client = OpenAI()\n",
        "\n",
        "response = client.chat.completions.create(\n",
        "    model=\"gpt-3.5-turbo\",\n",
        "    messages=[\n",
        "        {\n",
        "            \"role\": \"system\", \n",
        "            \"content\": \"You are a knowledgeable agent specializing in the medical domain, proficient in interpreting and analyzing medical reports with precision and expertise.\"\n",
        "         },\n",
        "        {\n",
        "            \"role\": \"user\", \n",
        "            \"content\": query\n",
        "         },\n",
        "    ],\n",
        ")"
      ]
    },
    {
      "cell_type": "code",
      "execution_count": 9,
      "metadata": {},
      "outputs": [
        {
          "data": {
            "text/plain": [
              "'1. **Report Explanation**:\\n   - **Clinical Indication**: The reason for the test was low back pain.\\n   - **Technique**: MRI scan of the lower back was done from different angles both with and without contrast dye.\\n   - **Contrast**: A contrast agent called Clariscan was used during part of the scan.\\n   - **Findings**:\\n     - **Vertebrae**: There are 5 vertebrae in the lower back, with the last one (S1) partially fused with the pelvis bone (sacrum).\\n     - **Surgical Changes**: Previous surgeries at levels L2-L4 with fusion of bones using hardware, making it challenging to see nearby structures clearly.\\n     - **Vertebral Bodies**: T12 vertebra shows slight front compression without major issues in height or bone marrow.\\n     - **Alignment**: No sudden shifts in the spine but slight slipping of upper vertebral bones over lower ones and a mild curve to the right.\\n     - **Extradural**: No unusual fluid collections or masses around the spinal cord.\\n     - **Spinal Cord**: The lower part of the spinal cord appears normal.\\n     - **Conus**: The lower end of the spinal cord is near the first lumbar vertebra (L1).\\n     - **Specific Levels (T12-S1)**: Narrowing of spaces around spinal nerves and canal at different levels due to disc bulges, joint arthritis, and ligament thickening.\\n     - **Soft Tissues**: Minor findings in tissues surrounding the spine and a simple kidney cyst on the right side.\\n\\n   - **Impression**: Overall, the report indicates previous surgeries and age-related degeneration in the lower back, leading to considerable narrowing of spaces for nerves and the spinal cord at various levels.\\n\\n2. **Simplified Explanation**:\\n   - **Summary**: Your lower back pain is due to several factors like previous surgeries, bone fusion, and age-related changes causing narrowing around nerves and the spinal cord at different levels.\\n   - **Health Implications**: The report shows that your lower back has undergone surgeries, leading to some complications due to aging, which are causing the space around important structures to become too narrow.\\n   - **Next Steps**:\\n     - Considering the severity of narrowing (stenosis), you may need to consult with a specialist, like a spine surgeon or a pain management doctor.\\n     - Treatment options may involve physical therapy, medications, or in severe cases, surgical intervention to relieve pressure on nerves and the spinal cord.\\n   - **Complex Terms**:\\n     - **Stenosis**: Narrowing of spaces.\\n     - **Degenerative Spondylosis**: Wear-and-tear changes in the spine with aging.\\n     - **Neuroforaminal Stenosis**: Narrowing around spinal nerves.\\n     - **Ligamentum Flavum**: A ligament in the spine contributing to stenosis.\\n     - **Conus**: Lower end of the spinal cord.\\n     - **Artifact**: Distortion in the image due to metal from previous surgery, making evaluation difficult.'"
            ]
          },
          "execution_count": 9,
          "metadata": {},
          "output_type": "execute_result"
        }
      ],
      "source": [
        "response.choices[0].message.content"
      ]
    }
  ],
  "metadata": {
    "colab": {
      "provenance": []
    },
    "kernelspec": {
      "display_name": "Python 3",
      "name": "python3"
    },
    "language_info": {
      "codemirror_mode": {
        "name": "ipython",
        "version": 3
      },
      "file_extension": ".py",
      "mimetype": "text/x-python",
      "name": "python",
      "nbconvert_exporter": "python",
      "pygments_lexer": "ipython3",
      "version": "3.11.3"
    }
  },
  "nbformat": 4,
  "nbformat_minor": 0
}
